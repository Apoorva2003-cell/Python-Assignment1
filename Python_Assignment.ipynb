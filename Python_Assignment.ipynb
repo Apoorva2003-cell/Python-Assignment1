{
  "nbformat": 4,
  "nbformat_minor": 0,
  "metadata": {
    "colab": {
      "provenance": []
    },
    "kernelspec": {
      "name": "python3",
      "display_name": "Python 3"
    },
    "language_info": {
      "name": "python"
    }
  },
  "cells": [
    {
      "cell_type": "code",
      "execution_count": null,
      "metadata": {
        "id": "d1zNdQu-_sIM"
      },
      "outputs": [],
      "source": []
    },
    {
      "cell_type": "markdown",
      "source": [
        "Python Assignment"
      ],
      "metadata": {
        "id": "rCJ6bMkb_2nw"
      }
    },
    {
      "cell_type": "markdown",
      "source": [
        "1. What is Python, and why is it popular?\n",
        "   >>  python is multi purpose programming language , it is used to interact with the computer , for software programs and iit is very popular because it is easy to understand because of its syntax and alot of libraries are present in the python and this language is widely using in the industry because of it's versatile nature.\n",
        "\n",
        "2. What is an interpreter in Python?\n",
        "   >>  Python is a high level programming language ,so interpreter is a program which converts the high level program into machine code, and this interpreter convert the code line by line.\n",
        "  \n",
        "3. What are pre-defined keywords in Python?\n",
        "   >> Predefine keywords are the keywords that are already reserved in the python and hold a specific meaning and that meaning cannot be changed , it is  used to define the syntax of coding.\n",
        "\n",
        "4. Can keywords be used as variable names?\n",
        "   >>Keywords cannot be named as variable because keywords are already reserved by python and hold a specific meaning.\n",
        "\n",
        "5. What is mutability in Python?\n",
        "   >> In python , mutability refers to  whether an object's value can be changed after it's created. mutuable objects can be changed , we can modify  the object . ex: list, dictionaries and sets.\n",
        "\n",
        "6.  Why are lists mutable, but tuples are immutable?\n",
        "   >>lists are mutable which means after creating the list we can modify the list but sets are immutable which means we cannot modify the sets once it has been created because they are meant to used for fixed collection items that shouldn't change.\n",
        "\n",
        "7. What is the difference between “==” and “is” operators in Python?\n",
        "   >> The \"==\" is compares the value of two objects,it checks two objects are equal  whereas \"is\" operator checks if two variables point to the same object, checks if two variable are identical.\n",
        "\n",
        "8. What are logical operators in Python?\n",
        "   >> The logical operators in python are keywords that combine  and evaluate multiple condition in single expression , it will give boolean expression that's why it is also known as boolean operators. three types of logical operators are there:\n",
        "   1>and: Returns  true if both statements are correct\n",
        "   2>or: Returns true if either one condition is true.\n",
        "   3>not: Reverse the condition , returning false if reult is true\n",
        "\n",
        "9.  What is type casting in Python?\n",
        "   >> Typecasting is a process to convert the one data type to another.this can be implicit and explicit datatype\n",
        "\n",
        "10. What is the difference between implicit and explicit type casting?\n",
        "    >>Implicit typecasting- This occurs when python automatically convert one data type to another without any external instruction from the programmer.\n",
        "    >> Explicit typecasting- This involves converting a datatype explicity using predefined functions like int(), float(), str() etc , where the programmer specifically directs the type of conversion.\n",
        "\n",
        "11. What is the purpose of conditional statements in Python?\n",
        "    >> The purpose of the conditional statement  in python to control the flow of execution by using the different code block based on certain conditions.\n",
        "   - A conditional statement executes the block of code ig the given condition is true.\n",
        "    - If the conditiona is false , the code is not executed.\n",
        "    - conditional statements are also known as decision making statements\n",
        "\n",
        "12. How does the elif statement work?\n",
        "    >> In python, elif is the short form of if-else and is used when if statement is not true and when we need to check more condition, there is no limit of elif statements we can use in python.\n",
        "\n",
        "13.  What is the difference between for and while loops?\n",
        "     >> The difference between for loop and while loop in python is that for allows intialization, condition checking and iteration  statement at the top of the loop whereas while only allows initialization and condition cheking at the top of the loop.for loop is entry controlled loop, while loop is exit controlled is an exit controlled loop.\n",
        "\n",
        "14.  Describe a scenario where a while loop is more suitable than a for loop.\n",
        "    >> For loop is used when the number of iteration is known , whereas while is ideal for the situations where the number of iterations is not predetermined and depends on some dynamic conditions.\n",
        "\n",
        "\n",
        "\n",
        "\n",
        "\n",
        "\n",
        ""
      ],
      "metadata": {
        "id": "d8IgWQCtAH9F"
      }
    },
    {
      "cell_type": "code",
      "source": [
        "#  Write a Python program to print \"Hello, World!_\n",
        "\"\"\"\n",
        "print(\"Hello,World!\")\n",
        "\"\"\""
      ],
      "metadata": {
        "colab": {
          "base_uri": "https://localhost:8080/"
        },
        "id": "efJ7wFbBZ88r",
        "outputId": "94086d73-da51-438c-f43e-c2a84959d1eb"
      },
      "execution_count": 1,
      "outputs": [
        {
          "output_type": "stream",
          "name": "stdout",
          "text": [
            "Hello,World!\n"
          ]
        }
      ]
    },
    {
      "cell_type": "code",
      "source": [
        "#70 Write a Python program that displays your name and age0\n",
        "\"\"\"name = \"Apoorva\"\n",
        "age=22\n",
        "print(name)\n",
        "print(age)\"\"\""
      ],
      "metadata": {
        "colab": {
          "base_uri": "https://localhost:8080/"
        },
        "id": "a6mDRbz6_5s9",
        "outputId": "15576583-6f3b-44d8-ee77-779814cdd577"
      },
      "execution_count": 2,
      "outputs": [
        {
          "output_type": "stream",
          "name": "stdout",
          "text": [
            "Apoorva\n",
            "22\n"
          ]
        }
      ]
    },
    {
      "cell_type": "markdown",
      "source": [],
      "metadata": {
        "id": "cw59XLxfEZMu"
      }
    },
    {
      "cell_type": "code",
      "source": [
        "# Write code to print all the pre-defined keywords in Python using the keyword library\n",
        "\"\"\"import keyword\n",
        "print(\" The list of the predefine keywords is:\")\n",
        "print(keyword.kwlist)\"\"\"\n"
      ],
      "metadata": {
        "colab": {
          "base_uri": "https://localhost:8080/"
        },
        "id": "NzYx2UyLbGfI",
        "outputId": "f097a452-a7f2-467d-85cc-ee6aaea869dd"
      },
      "execution_count": 3,
      "outputs": [
        {
          "output_type": "stream",
          "name": "stdout",
          "text": [
            " The list of the predefine keywords is:\n",
            "['False', 'None', 'True', 'and', 'as', 'assert', 'async', 'await', 'break', 'class', 'continue', 'def', 'del', 'elif', 'else', 'except', 'finally', 'for', 'from', 'global', 'if', 'import', 'in', 'is', 'lambda', 'nonlocal', 'not', 'or', 'pass', 'raise', 'return', 'try', 'while', 'with', 'yield']\n"
          ]
        }
      ]
    },
    {
      "cell_type": "code",
      "source": [
        "# Write a program that checks if a given word is a Python keyword\n",
        "'''import keyword\n",
        "s=\"from\"\n",
        "if s in keyword.kwlist:\n",
        "  print(s,\" It is python keyword\")\n",
        "else:\n",
        "  print(s,\"it is not python keyword\")'''"
      ],
      "metadata": {
        "colab": {
          "base_uri": "https://localhost:8080/"
        },
        "id": "T8Z5TsS6cB3U",
        "outputId": "2c57db01-4b7c-4ecd-83be-bbd0e509992b"
      },
      "execution_count": 6,
      "outputs": [
        {
          "output_type": "stream",
          "name": "stdout",
          "text": [
            "from  It is python keyword\n"
          ]
        }
      ]
    },
    {
      "cell_type": "code",
      "source": [
        "# Create a list and tuple in Python, and demonstrate how attempting to change an element works differently for each.\n",
        "\"\"\"s=[12,13,14,15,15]\n",
        "print(s)\n",
        "s.append(17)\n",
        "t=(20,30,40,50,60)\n",
        "print(t)\"\"\""
      ],
      "metadata": {
        "colab": {
          "base_uri": "https://localhost:8080/"
        },
        "id": "geuyXiJfdI_t",
        "outputId": "c8eab425-fd6b-43ed-b5bb-8e0c002c4e96"
      },
      "execution_count": 8,
      "outputs": [
        {
          "output_type": "stream",
          "name": "stdout",
          "text": [
            "[12, 13, 14, 15, 15]\n"
          ]
        }
      ]
    },
    {
      "cell_type": "code",
      "source": [
        "# Write a function to demonstrate the behavior of mutable and immutable arguments\n",
        "'''Listone =[\"Apple\",\"orange\",\" banana\",\"Papaya\"]\n",
        "print(listone)\n",
        "\n",
        "listone[1]=\"Grapes\"'''\n"
      ],
      "metadata": {
        "id": "gO7wI-zafdNm"
      },
      "execution_count": null,
      "outputs": []
    },
    {
      "cell_type": "code",
      "source": [
        "# Write a program to demonstrate the use of logical operators0\n",
        "\"\"\"a=50\n",
        "if (a%2==0 and a>0):\n",
        "  print(\" it is even no \")\n",
        "else:\n",
        "   print(\"it is odd no\")\n",
        "\n",
        "b=45\n",
        "if (a%2==0 or a>0 ):\n",
        "  print(\"it is valid no\")\n",
        "else:\n",
        "  print(\"it is invalid no\")\n",
        "\n",
        "a = true\n",
        "print(not a)\"\"\""
      ],
      "metadata": {
        "colab": {
          "base_uri": "https://localhost:8080/"
        },
        "id": "eS4h1sGJgwOg",
        "outputId": "0e147275-004e-4daa-dd9b-e78fe535bc35"
      },
      "execution_count": 10,
      "outputs": [
        {
          "output_type": "stream",
          "name": "stdout",
          "text": [
            "it is odd no\n"
          ]
        }
      ]
    },
    {
      "cell_type": "code",
      "source": [
        "#Write a Python program to convert user input from string to integer, float, and boolean types\n",
        "\"\"\"age= input(\"enter the age\")\n",
        "print(age)\n",
        "\n",
        "print(type(age))\n",
        "\n",
        "age = int(input(\"enter the age\"))\n",
        "print (age)\n",
        "print(type(age))\n",
        "\n",
        "X= float(input(\" enter the value of x\"))\n",
        "print (X)\n",
        "print(type(X))\"\"\""
      ],
      "metadata": {
        "colab": {
          "base_uri": "https://localhost:8080/"
        },
        "id": "k5xN6IG9ik_3",
        "outputId": "1cc2b823-bc33-4a58-e357-ec1089bf0d90"
      },
      "execution_count": 16,
      "outputs": [
        {
          "output_type": "stream",
          "name": "stdout",
          "text": [
            "enter the age6\n",
            "6\n",
            "<class 'int'>\n",
            " enter the value of x21\n",
            "21.0\n",
            "<class 'float'>\n"
          ]
        }
      ]
    },
    {
      "cell_type": "code",
      "source": [
        "# Write a program that checks if a number is positive, negative, or zero0\n",
        "\"\"\"no=-8\n",
        "if(no>0):\n",
        "  print(\"the no is poistive\")\n",
        "elif(no==0):\n",
        "  print(\"the no is zero\")\n",
        "else:\n",
        "  print(\"the no is negative\")\"\"\"\n",
        ""
      ],
      "metadata": {
        "colab": {
          "base_uri": "https://localhost:8080/"
        },
        "id": "ViECn46yjJyB",
        "outputId": "91a64002-1c34-47dc-ea41-0dfe2137d959"
      },
      "execution_count": 18,
      "outputs": [
        {
          "output_type": "stream",
          "name": "stdout",
          "text": [
            "theno is negative\n"
          ]
        }
      ]
    },
    {
      "cell_type": "code",
      "source": [
        "# Write a for loop to print numbers from 1 to 100\n",
        "\"\"\"for i in range(1,11):\n",
        "    print(i)\"\"\""
      ],
      "metadata": {
        "id": "IDciW9dzlrcu"
      },
      "execution_count": null,
      "outputs": []
    },
    {
      "cell_type": "code",
      "source": [
        "# Write a Python program to find the sum of all even numbers between 1 and 50\n",
        "\"\"\"even_sum= 0\n",
        "for num in range (0,50,2):\n",
        "  even_sum=even_sum+num\n",
        "\n",
        "\n",
        "print(f\"sum of all the even no upto 50 is {even_sum}\")\"\"\""
      ],
      "metadata": {
        "colab": {
          "base_uri": "https://localhost:8080/",
          "height": 106
        },
        "id": "53Xug3F_meXG",
        "outputId": "c8bf5a97-f640-4051-9b46-94e2fcf3f16a"
      },
      "execution_count": 19,
      "outputs": [
        {
          "output_type": "error",
          "ename": "SyntaxError",
          "evalue": "invalid syntax. Perhaps you forgot a comma? (<ipython-input-19-27657bd7c30b>, line 6)",
          "traceback": [
            "\u001b[0;36m  File \u001b[0;32m\"<ipython-input-19-27657bd7c30b>\"\u001b[0;36m, line \u001b[0;32m6\u001b[0m\n\u001b[0;31m    print(f\"sum of all the even no upto 50 is\"{even_sum})\u001b[0m\n\u001b[0m          ^\u001b[0m\n\u001b[0;31mSyntaxError\u001b[0m\u001b[0;31m:\u001b[0m invalid syntax. Perhaps you forgot a comma?\n"
          ]
        }
      ]
    },
    {
      "cell_type": "code",
      "source": [
        "# Write a program to reverse a string using a while loop\n",
        "a=\"Apoorva\"\n",
        "i=len(a)-1\n",
        "while(i>=0):\n",
        "  print(a[i])\n",
        "  i=i-1\n",
        "\n"
      ],
      "metadata": {
        "colab": {
          "base_uri": "https://localhost:8080/"
        },
        "id": "1DtgBpCTo5k5",
        "outputId": "5fbca393-e3ba-4785-9a16-fff97b634fda"
      },
      "execution_count": 21,
      "outputs": [
        {
          "output_type": "stream",
          "name": "stdout",
          "text": [
            "a\n",
            "v\n",
            "r\n",
            "o\n",
            "o\n",
            "p\n",
            "A\n"
          ]
        }
      ]
    },
    {
      "cell_type": "code",
      "source": [
        "#2 Write a Python program to calculate the factorial of a number provided by the user using a while loop.\n",
        "\"\"\"n = int(input(\"enter the no\"))\n",
        "f=1\n",
        "while n>=1:\n",
        "  f*=n\n",
        "  n-=1\n",
        "\n",
        "  print(\"factorial is\",f)\"\"\"\n"
      ],
      "metadata": {
        "id": "yNgM2Y3_qGci"
      },
      "execution_count": null,
      "outputs": []
    }
  ]
}